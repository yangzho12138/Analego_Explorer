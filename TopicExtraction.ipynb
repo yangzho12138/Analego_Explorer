{
 "cells": [
  {
   "cell_type": "code",
   "execution_count": null,
   "metadata": {},
   "outputs": [],
   "source": [
    "import numpy as np\n",
    "import pandas as pd\n",
    "from sklearn.feature_extraction.text import CountVectorizer\n",
    "from sklearn.decomposition import LatentDirichletAllocation\n",
    "\n",
    "# Sample text data (could be replaced by actual dataset)\n",
    "data = [\n",
    "    \"Cell biology is the study of cell structure and function, and it revolves around the concept that the cell is the fundamental unit of life.\",\n",
    "    \"Focusing on the cell permits a detailed understanding of the tissues and organisms that cells compose.\",\n",
    "    \"Some organisms have only one cell, while others are organized into cooperative groups with huge numbers of cells.\",\n",
    "    \"On the whole, cell biology focuses on the structure and function of a cell, from the most general properties shared by all cells, to the unique, highly intricate functions particular to specialized cells.\"\n",
    "]\n",
    "\n",
    "# Text Preprocessing\n",
    "def preprocess_text(texts):\n",
    "    vectorizer = CountVectorizer(stop_words='english', lowercase=True, token_pattern=r'\\b[a-zA-Z]{3,}\\b')\n",
    "    dt_matrix = vectorizer.fit_transform(texts)\n",
    "    return dt_matrix, vectorizer.get_feature_names_out()\n",
    "\n",
    "dt_matrix, feature_names = preprocess_text(data)\n",
    "\n",
    "# Apply LDA\n",
    "lda = LatentDirichletAllocation(n_components=3, random_state=0)\n",
    "lda.fit(dt_matrix)\n",
    "\n",
    "# Displaying topics\n",
    "def display_topics(model, feature_names, no_top_words):\n",
    "    topic_dict = {}\n",
    "    for topic_idx, topic in enumerate(model.components_):\n",
    "        topic_dict[f\"Topic {topic_idx + 1}\"] = [feature_names[i]\n",
    "                        for i in topic.argsort()[:-no_top_words - 1:-1]]\n",
    "    return pd.DataFrame(topic_dict)\n",
    "\n",
    "# Generate a DataFrame with the topics\n",
    "topics_df = display_topics(lda, feature_names, 5)\n",
    "topics_df"
   ]
  }
 ],
 "metadata": {
  "language_info": {
   "name": "python"
  }
 },
 "nbformat": 4,
 "nbformat_minor": 2
}
